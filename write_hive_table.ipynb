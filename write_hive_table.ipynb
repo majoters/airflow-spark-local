{
 "cells": [
  {
   "cell_type": "code",
   "execution_count": 1,
   "id": "4dafb44b-c617-4f69-b916-970ded52a5b3",
   "metadata": {},
   "outputs": [],
   "source": [
    "from pyspark.sql import SparkSession\n",
    "\n",
    "spark = SparkSession \\\n",
    "    .builder \\\n",
    "    .appName(\"spark-nb\") \\\n",
    "    .master(\"spark://spark-master:7077\") \\\n",
    "    .enableHiveSupport() \\\n",
    "    .getOrCreate()"
   ]
  },
  {
   "cell_type": "code",
   "execution_count": 2,
   "id": "459e9a63-de73-4404-8544-945e33cb0a4d",
   "metadata": {},
   "outputs": [],
   "source": [
    "df = spark.read.format(\"parquet\").load(\"s3a://raw-data/\")"
   ]
  },
  {
   "cell_type": "code",
   "execution_count": 3,
   "id": "b3314dba-de6b-4562-8366-88141b22792f",
   "metadata": {},
   "outputs": [
    {
     "name": "stdout",
     "output_type": "stream",
     "text": [
      "root\n",
      " |-- VendorID: integer (nullable = true)\n",
      " |-- lpep_pickup_datetime: timestamp_ntz (nullable = true)\n",
      " |-- lpep_dropoff_datetime: timestamp_ntz (nullable = true)\n",
      " |-- store_and_fwd_flag: string (nullable = true)\n",
      " |-- RatecodeID: long (nullable = true)\n",
      " |-- PULocationID: integer (nullable = true)\n",
      " |-- DOLocationID: integer (nullable = true)\n",
      " |-- passenger_count: long (nullable = true)\n",
      " |-- trip_distance: double (nullable = true)\n",
      " |-- fare_amount: double (nullable = true)\n",
      " |-- extra: double (nullable = true)\n",
      " |-- mta_tax: double (nullable = true)\n",
      " |-- tip_amount: double (nullable = true)\n",
      " |-- tolls_amount: double (nullable = true)\n",
      " |-- ehail_fee: double (nullable = true)\n",
      " |-- improvement_surcharge: double (nullable = true)\n",
      " |-- total_amount: double (nullable = true)\n",
      " |-- payment_type: long (nullable = true)\n",
      " |-- trip_type: long (nullable = true)\n",
      " |-- congestion_surcharge: double (nullable = true)\n",
      "\n"
     ]
    }
   ],
   "source": [
    "df.printSchema()"
   ]
  },
  {
   "cell_type": "code",
   "execution_count": 4,
   "id": "40cdd16a-4a5e-4f37-968b-7b71f5971d8f",
   "metadata": {},
   "outputs": [
    {
     "name": "stdout",
     "output_type": "stream",
     "text": [
      "+--------+--------------------+---------------------+------------------+----------+------------+------------+---------------+-------------+-----------+-----+-------+----------+------------+---------+---------------------+------------+------------+---------+--------------------+\n",
      "|VendorID|lpep_pickup_datetime|lpep_dropoff_datetime|store_and_fwd_flag|RatecodeID|PULocationID|DOLocationID|passenger_count|trip_distance|fare_amount|extra|mta_tax|tip_amount|tolls_amount|ehail_fee|improvement_surcharge|total_amount|payment_type|trip_type|congestion_surcharge|\n",
      "+--------+--------------------+---------------------+------------------+----------+------------+------------+---------------+-------------+-----------+-----+-------+----------+------------+---------+---------------------+------------+------------+---------+--------------------+\n",
      "|       2| 2024-03-01 00:10:52|  2024-03-01 00:26:12|                 N|         1|         129|         226|              1|         1.72|       12.8|  1.0|    0.5|      3.06|         0.0|     NULL|                  1.0|       18.36|           1|        1|                 0.0|\n",
      "|       2| 2024-03-01 00:22:21|  2024-03-01 00:35:15|                 N|         1|         130|         218|              1|         3.25|       17.7|  1.0|    0.5|       0.0|         0.0|     NULL|                  1.0|        20.2|           2|        1|                 0.0|\n",
      "|       2| 2024-03-01 00:45:27|  2024-03-01 01:04:32|                 N|         1|         255|         107|              2|         4.58|       23.3|  1.0|    0.5|       3.5|         0.0|     NULL|                  1.0|       32.05|           1|        1|                2.75|\n",
      "|       1| 2024-03-01 00:02:00|  2024-03-01 00:23:45|                 N|         1|         181|          71|              1|          0.0|       22.5|  0.0|    1.5|       0.0|         0.0|     NULL|                  1.0|        24.0|           1|        1|                 0.0|\n",
      "|       2| 2024-03-01 00:16:45|  2024-03-01 00:23:25|                 N|         1|          95|         135|              1|         1.15|        8.6|  1.0|    0.5|       1.0|         0.0|     NULL|                  1.0|        12.1|           1|        1|                 0.0|\n",
      "+--------+--------------------+---------------------+------------------+----------+------------+------------+---------------+-------------+-----------+-----+-------+----------+------------+---------+---------------------+------------+------------+---------+--------------------+\n",
      "only showing top 5 rows\n",
      "\n"
     ]
    }
   ],
   "source": [
    "df.show(n=5)"
   ]
  },
  {
   "cell_type": "code",
   "execution_count": 5,
   "id": "97267bdd-da32-4a01-9b01-c999369dd719",
   "metadata": {},
   "outputs": [
    {
     "name": "stdout",
     "output_type": "stream",
     "text": [
      "type:  <class 'pandas.core.frame.DataFrame'>\n"
     ]
    },
    {
     "data": {
      "text/html": [
       "<div>\n",
       "<style scoped>\n",
       "    .dataframe tbody tr th:only-of-type {\n",
       "        vertical-align: middle;\n",
       "    }\n",
       "\n",
       "    .dataframe tbody tr th {\n",
       "        vertical-align: top;\n",
       "    }\n",
       "\n",
       "    .dataframe thead th {\n",
       "        text-align: right;\n",
       "    }\n",
       "</style>\n",
       "<table border=\"1\" class=\"dataframe\">\n",
       "  <thead>\n",
       "    <tr style=\"text-align: right;\">\n",
       "      <th></th>\n",
       "      <th>VendorID</th>\n",
       "      <th>lpep_pickup_datetime</th>\n",
       "      <th>lpep_dropoff_datetime</th>\n",
       "      <th>store_and_fwd_flag</th>\n",
       "      <th>RatecodeID</th>\n",
       "      <th>PULocationID</th>\n",
       "      <th>DOLocationID</th>\n",
       "      <th>passenger_count</th>\n",
       "      <th>trip_distance</th>\n",
       "      <th>fare_amount</th>\n",
       "      <th>extra</th>\n",
       "      <th>mta_tax</th>\n",
       "      <th>tip_amount</th>\n",
       "      <th>tolls_amount</th>\n",
       "      <th>ehail_fee</th>\n",
       "      <th>improvement_surcharge</th>\n",
       "      <th>total_amount</th>\n",
       "      <th>payment_type</th>\n",
       "      <th>trip_type</th>\n",
       "      <th>congestion_surcharge</th>\n",
       "    </tr>\n",
       "  </thead>\n",
       "  <tbody>\n",
       "    <tr>\n",
       "      <th>0</th>\n",
       "      <td>2</td>\n",
       "      <td>2024-03-01 00:10:52</td>\n",
       "      <td>2024-03-01 00:26:12</td>\n",
       "      <td>N</td>\n",
       "      <td>1.0</td>\n",
       "      <td>129</td>\n",
       "      <td>226</td>\n",
       "      <td>1.0</td>\n",
       "      <td>1.72</td>\n",
       "      <td>12.8</td>\n",
       "      <td>1.0</td>\n",
       "      <td>0.5</td>\n",
       "      <td>3.06</td>\n",
       "      <td>0.0</td>\n",
       "      <td>NaN</td>\n",
       "      <td>1.0</td>\n",
       "      <td>18.36</td>\n",
       "      <td>1.0</td>\n",
       "      <td>1.0</td>\n",
       "      <td>0.00</td>\n",
       "    </tr>\n",
       "    <tr>\n",
       "      <th>1</th>\n",
       "      <td>2</td>\n",
       "      <td>2024-03-01 00:22:21</td>\n",
       "      <td>2024-03-01 00:35:15</td>\n",
       "      <td>N</td>\n",
       "      <td>1.0</td>\n",
       "      <td>130</td>\n",
       "      <td>218</td>\n",
       "      <td>1.0</td>\n",
       "      <td>3.25</td>\n",
       "      <td>17.7</td>\n",
       "      <td>1.0</td>\n",
       "      <td>0.5</td>\n",
       "      <td>0.00</td>\n",
       "      <td>0.0</td>\n",
       "      <td>NaN</td>\n",
       "      <td>1.0</td>\n",
       "      <td>20.20</td>\n",
       "      <td>2.0</td>\n",
       "      <td>1.0</td>\n",
       "      <td>0.00</td>\n",
       "    </tr>\n",
       "    <tr>\n",
       "      <th>2</th>\n",
       "      <td>2</td>\n",
       "      <td>2024-03-01 00:45:27</td>\n",
       "      <td>2024-03-01 01:04:32</td>\n",
       "      <td>N</td>\n",
       "      <td>1.0</td>\n",
       "      <td>255</td>\n",
       "      <td>107</td>\n",
       "      <td>2.0</td>\n",
       "      <td>4.58</td>\n",
       "      <td>23.3</td>\n",
       "      <td>1.0</td>\n",
       "      <td>0.5</td>\n",
       "      <td>3.50</td>\n",
       "      <td>0.0</td>\n",
       "      <td>NaN</td>\n",
       "      <td>1.0</td>\n",
       "      <td>32.05</td>\n",
       "      <td>1.0</td>\n",
       "      <td>1.0</td>\n",
       "      <td>2.75</td>\n",
       "    </tr>\n",
       "    <tr>\n",
       "      <th>3</th>\n",
       "      <td>1</td>\n",
       "      <td>2024-03-01 00:02:00</td>\n",
       "      <td>2024-03-01 00:23:45</td>\n",
       "      <td>N</td>\n",
       "      <td>1.0</td>\n",
       "      <td>181</td>\n",
       "      <td>71</td>\n",
       "      <td>1.0</td>\n",
       "      <td>0.00</td>\n",
       "      <td>22.5</td>\n",
       "      <td>0.0</td>\n",
       "      <td>1.5</td>\n",
       "      <td>0.00</td>\n",
       "      <td>0.0</td>\n",
       "      <td>NaN</td>\n",
       "      <td>1.0</td>\n",
       "      <td>24.00</td>\n",
       "      <td>1.0</td>\n",
       "      <td>1.0</td>\n",
       "      <td>0.00</td>\n",
       "    </tr>\n",
       "    <tr>\n",
       "      <th>4</th>\n",
       "      <td>2</td>\n",
       "      <td>2024-03-01 00:16:45</td>\n",
       "      <td>2024-03-01 00:23:25</td>\n",
       "      <td>N</td>\n",
       "      <td>1.0</td>\n",
       "      <td>95</td>\n",
       "      <td>135</td>\n",
       "      <td>1.0</td>\n",
       "      <td>1.15</td>\n",
       "      <td>8.6</td>\n",
       "      <td>1.0</td>\n",
       "      <td>0.5</td>\n",
       "      <td>1.00</td>\n",
       "      <td>0.0</td>\n",
       "      <td>NaN</td>\n",
       "      <td>1.0</td>\n",
       "      <td>12.10</td>\n",
       "      <td>1.0</td>\n",
       "      <td>1.0</td>\n",
       "      <td>0.00</td>\n",
       "    </tr>\n",
       "  </tbody>\n",
       "</table>\n",
       "</div>"
      ],
      "text/plain": [
       "   VendorID lpep_pickup_datetime lpep_dropoff_datetime store_and_fwd_flag  \\\n",
       "0         2  2024-03-01 00:10:52   2024-03-01 00:26:12                  N   \n",
       "1         2  2024-03-01 00:22:21   2024-03-01 00:35:15                  N   \n",
       "2         2  2024-03-01 00:45:27   2024-03-01 01:04:32                  N   \n",
       "3         1  2024-03-01 00:02:00   2024-03-01 00:23:45                  N   \n",
       "4         2  2024-03-01 00:16:45   2024-03-01 00:23:25                  N   \n",
       "\n",
       "   RatecodeID  PULocationID  DOLocationID  passenger_count  trip_distance  \\\n",
       "0         1.0           129           226              1.0           1.72   \n",
       "1         1.0           130           218              1.0           3.25   \n",
       "2         1.0           255           107              2.0           4.58   \n",
       "3         1.0           181            71              1.0           0.00   \n",
       "4         1.0            95           135              1.0           1.15   \n",
       "\n",
       "   fare_amount  extra  mta_tax  tip_amount  tolls_amount  ehail_fee  \\\n",
       "0         12.8    1.0      0.5        3.06           0.0        NaN   \n",
       "1         17.7    1.0      0.5        0.00           0.0        NaN   \n",
       "2         23.3    1.0      0.5        3.50           0.0        NaN   \n",
       "3         22.5    0.0      1.5        0.00           0.0        NaN   \n",
       "4          8.6    1.0      0.5        1.00           0.0        NaN   \n",
       "\n",
       "   improvement_surcharge  total_amount  payment_type  trip_type  \\\n",
       "0                    1.0         18.36           1.0        1.0   \n",
       "1                    1.0         20.20           2.0        1.0   \n",
       "2                    1.0         32.05           1.0        1.0   \n",
       "3                    1.0         24.00           1.0        1.0   \n",
       "4                    1.0         12.10           1.0        1.0   \n",
       "\n",
       "   congestion_surcharge  \n",
       "0                  0.00  \n",
       "1                  0.00  \n",
       "2                  2.75  \n",
       "3                  0.00  \n",
       "4                  0.00  "
      ]
     },
     "execution_count": 5,
     "metadata": {},
     "output_type": "execute_result"
    }
   ],
   "source": [
    "pandas_df = df.toPandas()\n",
    "print(\"type: \", type(pandas_df))\n",
    "pandas_df.head(5)"
   ]
  },
  {
   "cell_type": "code",
   "execution_count": 6,
   "id": "6ec0b095-0002-450c-aeb4-9b5ef66570c9",
   "metadata": {},
   "outputs": [
    {
     "data": {
      "text/plain": [
       "167585"
      ]
     },
     "execution_count": 6,
     "metadata": {},
     "output_type": "execute_result"
    }
   ],
   "source": [
    "df.count()"
   ]
  },
  {
   "cell_type": "markdown",
   "id": "6cdb0f2d-97db-4265-b6b6-a00e5c478868",
   "metadata": {},
   "source": [
    "## Example of DataFrame API and SparkSQL"
   ]
  },
  {
   "cell_type": "code",
   "execution_count": 7,
   "id": "0ab5ebfa-8d48-49b3-8b8c-349ad7f0b67c",
   "metadata": {},
   "outputs": [
    {
     "data": {
      "text/plain": [
       "datetime.datetime(2024, 3, 31, 16, 40)"
      ]
     },
     "execution_count": 7,
     "metadata": {},
     "output_type": "execute_result"
    }
   ],
   "source": [
    "df = df.filter(\"VendorID = 2\")\n",
    "df = df.sort(df.lpep_dropoff_datetime.desc())\n",
    "df.collect()[0].lpep_pickup_datetime"
   ]
  },
  {
   "cell_type": "code",
   "execution_count": 8,
   "id": "b40d3c17-6a42-49eb-b318-d01de91178ca",
   "metadata": {},
   "outputs": [
    {
     "data": {
      "text/plain": [
       "datetime.datetime(2024, 3, 31, 16, 40)"
      ]
     },
     "execution_count": 8,
     "metadata": {},
     "output_type": "execute_result"
    }
   ],
   "source": [
    "df.createOrReplaceTempView(\"taxi_view\")\n",
    "sql = \"\"\"\n",
    "SELECT lpep_pickup_datetime\n",
    "FROM taxi_view\n",
    "WHERE VendorID = 2\n",
    "ORDER BY lpep_dropoff_datetime DESC\n",
    "\"\"\"\n",
    "spark.sql(sql).collect()[0].lpep_pickup_datetime"
   ]
  },
  {
   "cell_type": "markdown",
   "id": "3a0022e7-2219-4d49-831c-be23228e1463",
   "metadata": {},
   "source": [
    "## Write Some Result to S3"
   ]
  },
  {
   "cell_type": "code",
   "execution_count": 9,
   "id": "c2a02d40-fb15-4e2e-934a-b82b82fec40f",
   "metadata": {},
   "outputs": [],
   "source": [
    "result_path = \"s3a://spark-warehouse/raw_data/save_from_notebook\"\n",
    "df.limit(10).write.format(\"csv\").option(\"header\", \"true\").mode(\"overwrite\").save(result_path)"
   ]
  },
  {
   "cell_type": "markdown",
   "id": "7eedd32a-8a2b-4079-ba2d-3cd191a3f3ab",
   "metadata": {},
   "source": [
    "## Write Data as Hive Table"
   ]
  },
  {
   "cell_type": "code",
   "execution_count": 10,
   "id": "d9dbb345-dfc5-4dac-b4bd-0b66939a8776",
   "metadata": {},
   "outputs": [],
   "source": [
    "from pyspark.sql.functions import col\n",
    "\n",
    "# hive table does not support timestamp_ntz\n",
    "# we need to cast to timestamp type\n",
    "df = df.withColumn(\"lpep_pickup_datetime\", col(\"lpep_pickup_datetime\").cast(\"timestamp\"))\n",
    "df = df.withColumn(\"lpep_dropoff_datetime\", col(\"lpep_dropoff_datetime\").cast(\"timestamp\"))"
   ]
  },
  {
   "cell_type": "code",
   "execution_count": 11,
   "id": "558bd08e-d694-4179-bf48-bc56d034630c",
   "metadata": {},
   "outputs": [],
   "source": [
    "df.write.format(\"parquet\").mode(\"append\").saveAsTable(\"local_db.sample_hive_table\")"
   ]
  },
  {
   "cell_type": "code",
   "execution_count": 12,
   "id": "1ac5de6b-90ce-4334-b04b-57ac65703fa2",
   "metadata": {},
   "outputs": [
    {
     "name": "stdout",
     "output_type": "stream",
     "text": [
      "CREATE TABLE spark_catalog.local_db.sample_hive_table (\n",
      "  VendorID INT,\n",
      "  lpep_pickup_datetime TIMESTAMP,\n",
      "  lpep_dropoff_datetime TIMESTAMP,\n",
      "  store_and_fwd_flag STRING,\n",
      "  RatecodeID BIGINT,\n",
      "  PULocationID INT,\n",
      "  DOLocationID INT,\n",
      "  passenger_count BIGINT,\n",
      "  trip_distance DOUBLE,\n",
      "  fare_amount DOUBLE,\n",
      "  extra DOUBLE,\n",
      "  mta_tax DOUBLE,\n",
      "  tip_amount DOUBLE,\n",
      "  tolls_amount DOUBLE,\n",
      "  ehail_fee DOUBLE,\n",
      "  improvement_surcharge DOUBLE,\n",
      "  total_amount DOUBLE,\n",
      "  payment_type BIGINT,\n",
      "  trip_type BIGINT,\n",
      "  congestion_surcharge DOUBLE)\n",
      "USING parquet\n",
      "\n"
     ]
    }
   ],
   "source": [
    "sql = \"SHOW CREATE TABLE local_db.sample_hive_table\"\n",
    "createtab_stmt = spark.sql(sql).collect()[0].createtab_stmt\n",
    "print(createtab_stmt)"
   ]
  },
  {
   "cell_type": "code",
   "execution_count": 13,
   "id": "ccc7b202-9986-4b43-ac28-fd55160b9645",
   "metadata": {},
   "outputs": [
    {
     "name": "stdout",
     "output_type": "stream",
     "text": [
      "+--------+\n",
      "|count(1)|\n",
      "+--------+\n",
      "|  146630|\n",
      "+--------+\n",
      "\n"
     ]
    }
   ],
   "source": [
    "spark.sql(\"SELECT COUNT(*) FROM local_db.sample_hive_table\").show()"
   ]
  },
  {
   "cell_type": "code",
   "execution_count": 14,
   "id": "966591b4-f951-4217-8add-2a6c1edb0267",
   "metadata": {},
   "outputs": [
    {
     "name": "stderr",
     "output_type": "stream",
     "text": [
      "/opt/spark/python/pyspark/sql/pandas/types.py:563: FutureWarning: is_datetime64tz_dtype is deprecated and will be removed in a future version. Check `isinstance(dtype, pd.DatetimeTZDtype)` instead.\n",
      "  if not is_datetime64tz_dtype(pser.dtype):\n",
      "/opt/spark/python/pyspark/sql/pandas/types.py:379: FutureWarning: is_datetime64tz_dtype is deprecated and will be removed in a future version. Check `isinstance(dtype, pd.DatetimeTZDtype)` instead.\n",
      "  if is_datetime64tz_dtype(s.dtype):\n",
      "/opt/spark/python/pyspark/sql/pandas/types.py:563: FutureWarning: is_datetime64tz_dtype is deprecated and will be removed in a future version. Check `isinstance(dtype, pd.DatetimeTZDtype)` instead.\n",
      "  if not is_datetime64tz_dtype(pser.dtype):\n",
      "/opt/spark/python/pyspark/sql/pandas/types.py:379: FutureWarning: is_datetime64tz_dtype is deprecated and will be removed in a future version. Check `isinstance(dtype, pd.DatetimeTZDtype)` instead.\n",
      "  if is_datetime64tz_dtype(s.dtype):\n"
     ]
    },
    {
     "data": {
      "text/html": [
       "<div>\n",
       "<style scoped>\n",
       "    .dataframe tbody tr th:only-of-type {\n",
       "        vertical-align: middle;\n",
       "    }\n",
       "\n",
       "    .dataframe tbody tr th {\n",
       "        vertical-align: top;\n",
       "    }\n",
       "\n",
       "    .dataframe thead th {\n",
       "        text-align: right;\n",
       "    }\n",
       "</style>\n",
       "<table border=\"1\" class=\"dataframe\">\n",
       "  <thead>\n",
       "    <tr style=\"text-align: right;\">\n",
       "      <th></th>\n",
       "      <th>VendorID</th>\n",
       "      <th>lpep_pickup_datetime</th>\n",
       "      <th>lpep_dropoff_datetime</th>\n",
       "      <th>store_and_fwd_flag</th>\n",
       "      <th>RatecodeID</th>\n",
       "      <th>PULocationID</th>\n",
       "      <th>DOLocationID</th>\n",
       "      <th>passenger_count</th>\n",
       "      <th>trip_distance</th>\n",
       "      <th>fare_amount</th>\n",
       "      <th>extra</th>\n",
       "      <th>mta_tax</th>\n",
       "      <th>tip_amount</th>\n",
       "      <th>tolls_amount</th>\n",
       "      <th>ehail_fee</th>\n",
       "      <th>improvement_surcharge</th>\n",
       "      <th>total_amount</th>\n",
       "      <th>payment_type</th>\n",
       "      <th>trip_type</th>\n",
       "      <th>congestion_surcharge</th>\n",
       "    </tr>\n",
       "  </thead>\n",
       "  <tbody>\n",
       "    <tr>\n",
       "      <th>0</th>\n",
       "      <td>2</td>\n",
       "      <td>2024-02-15 18:06:41</td>\n",
       "      <td>2024-02-15 18:08:56</td>\n",
       "      <td>N</td>\n",
       "      <td>1</td>\n",
       "      <td>75</td>\n",
       "      <td>75</td>\n",
       "      <td>1</td>\n",
       "      <td>0.71</td>\n",
       "      <td>5.1</td>\n",
       "      <td>2.5</td>\n",
       "      <td>0.5</td>\n",
       "      <td>1.82</td>\n",
       "      <td>0.0</td>\n",
       "      <td>NaN</td>\n",
       "      <td>1.0</td>\n",
       "      <td>10.92</td>\n",
       "      <td>1</td>\n",
       "      <td>1</td>\n",
       "      <td>0.0</td>\n",
       "    </tr>\n",
       "    <tr>\n",
       "      <th>1</th>\n",
       "      <td>2</td>\n",
       "      <td>2024-02-15 17:53:07</td>\n",
       "      <td>2024-02-15 18:08:49</td>\n",
       "      <td>N</td>\n",
       "      <td>1</td>\n",
       "      <td>82</td>\n",
       "      <td>138</td>\n",
       "      <td>1</td>\n",
       "      <td>3.73</td>\n",
       "      <td>19.1</td>\n",
       "      <td>7.5</td>\n",
       "      <td>0.5</td>\n",
       "      <td>5.62</td>\n",
       "      <td>0.0</td>\n",
       "      <td>NaN</td>\n",
       "      <td>1.0</td>\n",
       "      <td>33.72</td>\n",
       "      <td>1</td>\n",
       "      <td>1</td>\n",
       "      <td>0.0</td>\n",
       "    </tr>\n",
       "    <tr>\n",
       "      <th>2</th>\n",
       "      <td>2</td>\n",
       "      <td>2024-02-15 18:04:33</td>\n",
       "      <td>2024-02-15 18:08:17</td>\n",
       "      <td>N</td>\n",
       "      <td>1</td>\n",
       "      <td>247</td>\n",
       "      <td>247</td>\n",
       "      <td>1</td>\n",
       "      <td>0.56</td>\n",
       "      <td>-5.8</td>\n",
       "      <td>-2.5</td>\n",
       "      <td>-0.5</td>\n",
       "      <td>0.00</td>\n",
       "      <td>0.0</td>\n",
       "      <td>NaN</td>\n",
       "      <td>-1.0</td>\n",
       "      <td>-9.80</td>\n",
       "      <td>4</td>\n",
       "      <td>1</td>\n",
       "      <td>0.0</td>\n",
       "    </tr>\n",
       "    <tr>\n",
       "      <th>3</th>\n",
       "      <td>2</td>\n",
       "      <td>2024-02-15 18:04:33</td>\n",
       "      <td>2024-02-15 18:08:17</td>\n",
       "      <td>N</td>\n",
       "      <td>1</td>\n",
       "      <td>247</td>\n",
       "      <td>247</td>\n",
       "      <td>1</td>\n",
       "      <td>0.56</td>\n",
       "      <td>5.8</td>\n",
       "      <td>2.5</td>\n",
       "      <td>0.5</td>\n",
       "      <td>0.00</td>\n",
       "      <td>0.0</td>\n",
       "      <td>NaN</td>\n",
       "      <td>1.0</td>\n",
       "      <td>9.80</td>\n",
       "      <td>4</td>\n",
       "      <td>1</td>\n",
       "      <td>0.0</td>\n",
       "    </tr>\n",
       "    <tr>\n",
       "      <th>4</th>\n",
       "      <td>2</td>\n",
       "      <td>2024-02-15 17:54:37</td>\n",
       "      <td>2024-02-15 18:08:08</td>\n",
       "      <td>N</td>\n",
       "      <td>1</td>\n",
       "      <td>75</td>\n",
       "      <td>42</td>\n",
       "      <td>1</td>\n",
       "      <td>2.60</td>\n",
       "      <td>14.9</td>\n",
       "      <td>2.5</td>\n",
       "      <td>0.5</td>\n",
       "      <td>0.00</td>\n",
       "      <td>0.0</td>\n",
       "      <td>NaN</td>\n",
       "      <td>1.0</td>\n",
       "      <td>18.90</td>\n",
       "      <td>2</td>\n",
       "      <td>1</td>\n",
       "      <td>0.0</td>\n",
       "    </tr>\n",
       "  </tbody>\n",
       "</table>\n",
       "</div>"
      ],
      "text/plain": [
       "   VendorID lpep_pickup_datetime lpep_dropoff_datetime store_and_fwd_flag  \\\n",
       "0         2  2024-02-15 18:06:41   2024-02-15 18:08:56                  N   \n",
       "1         2  2024-02-15 17:53:07   2024-02-15 18:08:49                  N   \n",
       "2         2  2024-02-15 18:04:33   2024-02-15 18:08:17                  N   \n",
       "3         2  2024-02-15 18:04:33   2024-02-15 18:08:17                  N   \n",
       "4         2  2024-02-15 17:54:37   2024-02-15 18:08:08                  N   \n",
       "\n",
       "   RatecodeID  PULocationID  DOLocationID  passenger_count  trip_distance  \\\n",
       "0           1            75            75                1           0.71   \n",
       "1           1            82           138                1           3.73   \n",
       "2           1           247           247                1           0.56   \n",
       "3           1           247           247                1           0.56   \n",
       "4           1            75            42                1           2.60   \n",
       "\n",
       "   fare_amount  extra  mta_tax  tip_amount  tolls_amount  ehail_fee  \\\n",
       "0          5.1    2.5      0.5        1.82           0.0        NaN   \n",
       "1         19.1    7.5      0.5        5.62           0.0        NaN   \n",
       "2         -5.8   -2.5     -0.5        0.00           0.0        NaN   \n",
       "3          5.8    2.5      0.5        0.00           0.0        NaN   \n",
       "4         14.9    2.5      0.5        0.00           0.0        NaN   \n",
       "\n",
       "   improvement_surcharge  total_amount  payment_type  trip_type  \\\n",
       "0                    1.0         10.92             1          1   \n",
       "1                    1.0         33.72             1          1   \n",
       "2                   -1.0         -9.80             4          1   \n",
       "3                    1.0          9.80             4          1   \n",
       "4                    1.0         18.90             2          1   \n",
       "\n",
       "   congestion_surcharge  \n",
       "0                   0.0  \n",
       "1                   0.0  \n",
       "2                   0.0  \n",
       "3                   0.0  \n",
       "4                   0.0  "
      ]
     },
     "execution_count": 14,
     "metadata": {},
     "output_type": "execute_result"
    }
   ],
   "source": [
    "spark.sql(\"SELECT * FROM local_db.sample_hive_table LIMIT 5\").toPandas()"
   ]
  },
  {
   "cell_type": "code",
   "execution_count": 15,
   "id": "1b141312-a2fd-4ac1-bf46-0eccfd0d3a03",
   "metadata": {},
   "outputs": [],
   "source": [
    "spark.stop()"
   ]
  },
  {
   "cell_type": "code",
   "execution_count": null,
   "id": "ee52bbb0-fc6e-47d4-8b44-01821f88dbce",
   "metadata": {},
   "outputs": [],
   "source": []
  }
 ],
 "metadata": {
  "kernelspec": {
   "display_name": "Python 3 (ipykernel)",
   "language": "python",
   "name": "python3"
  },
  "language_info": {
   "codemirror_mode": {
    "name": "ipython",
    "version": 3
   },
   "file_extension": ".py",
   "mimetype": "text/x-python",
   "name": "python",
   "nbconvert_exporter": "python",
   "pygments_lexer": "ipython3",
   "version": "3.12.7"
  }
 },
 "nbformat": 4,
 "nbformat_minor": 5
}
