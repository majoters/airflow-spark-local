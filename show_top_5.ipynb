{
 "cells": [
  {
   "cell_type": "code",
   "execution_count": 15,
   "id": "7742ce6b-ac43-444a-b15d-d487ad3102e5",
   "metadata": {},
   "outputs": [],
   "source": [
    "from pyspark.sql import SparkSession\n",
    "\n",
    "spark = SparkSession \\\n",
    "    .builder \\\n",
    "    .appName(\"spark-nb\") \\\n",
    "    .master(\"spark://spark-master:7077\") \\\n",
    "    .enableHiveSupport() \\\n",
    "    .getOrCreate()"
   ]
  },
  {
   "cell_type": "code",
   "execution_count": 16,
   "id": "77131ba3-02cc-473b-adbf-38ea744d4aac",
   "metadata": {},
   "outputs": [],
   "source": [
    "# spark.sql(\"SHOW TABLES IN local_db\").show()"
   ]
  },
  {
   "cell_type": "code",
   "execution_count": 17,
   "id": "bc0026f2-fdc8-4f5d-9957-da1645432fb0",
   "metadata": {},
   "outputs": [],
   "source": [
    "# spark.sql(f\"DROP TABLE IF EXISTS local_db.daily_topfive_taxi_zone\")"
   ]
  },
  {
   "cell_type": "code",
   "execution_count": 18,
   "id": "a951e39b-1489-43c9-a3b6-0ac19bba5d41",
   "metadata": {},
   "outputs": [],
   "source": [
    "# spark.sql(\"SHOW TABLES IN local_db\").show()"
   ]
  },
  {
   "cell_type": "code",
   "execution_count": 19,
   "id": "1b0c5fc8-45ec-47d5-9cdb-817a2a3e6e7c",
   "metadata": {},
   "outputs": [],
   "source": [
    "daily_topfive_df = spark.sql(\"SELECT * FROM local_db.daily_topfive_taxi_zone\")"
   ]
  },
  {
   "cell_type": "code",
   "execution_count": 20,
   "id": "062fb2bf-2d52-4396-a7a0-ba690ffcfd8d",
   "metadata": {},
   "outputs": [
    {
     "data": {
      "text/html": [
       "<div>\n",
       "<style scoped>\n",
       "    .dataframe tbody tr th:only-of-type {\n",
       "        vertical-align: middle;\n",
       "    }\n",
       "\n",
       "    .dataframe tbody tr th {\n",
       "        vertical-align: top;\n",
       "    }\n",
       "\n",
       "    .dataframe thead th {\n",
       "        text-align: right;\n",
       "    }\n",
       "</style>\n",
       "<table border=\"1\" class=\"dataframe\">\n",
       "  <thead>\n",
       "    <tr style=\"text-align: right;\">\n",
       "      <th></th>\n",
       "      <th>taxi_zone_id</th>\n",
       "      <th>rank</th>\n",
       "      <th>calculated_at</th>\n",
       "    </tr>\n",
       "  </thead>\n",
       "  <tbody>\n",
       "    <tr>\n",
       "      <th>0</th>\n",
       "      <td>74</td>\n",
       "      <td>1</td>\n",
       "      <td>2024-12-30 03:04:01</td>\n",
       "    </tr>\n",
       "    <tr>\n",
       "      <th>1</th>\n",
       "      <td>75</td>\n",
       "      <td>2</td>\n",
       "      <td>2024-12-30 03:04:01</td>\n",
       "    </tr>\n",
       "    <tr>\n",
       "      <th>2</th>\n",
       "      <td>95</td>\n",
       "      <td>3</td>\n",
       "      <td>2024-12-30 03:04:01</td>\n",
       "    </tr>\n",
       "    <tr>\n",
       "      <th>3</th>\n",
       "      <td>166</td>\n",
       "      <td>4</td>\n",
       "      <td>2024-12-30 03:04:01</td>\n",
       "    </tr>\n",
       "    <tr>\n",
       "      <th>4</th>\n",
       "      <td>43</td>\n",
       "      <td>5</td>\n",
       "      <td>2024-12-30 03:04:01</td>\n",
       "    </tr>\n",
       "  </tbody>\n",
       "</table>\n",
       "</div>"
      ],
      "text/plain": [
       "   taxi_zone_id  rank        calculated_at\n",
       "0            74     1  2024-12-30 03:04:01\n",
       "1            75     2  2024-12-30 03:04:01\n",
       "2            95     3  2024-12-30 03:04:01\n",
       "3           166     4  2024-12-30 03:04:01\n",
       "4            43     5  2024-12-30 03:04:01"
      ]
     },
     "execution_count": 20,
     "metadata": {},
     "output_type": "execute_result"
    }
   ],
   "source": [
    "daily_topfive_df.toPandas()"
   ]
  },
  {
   "cell_type": "code",
   "execution_count": 22,
   "id": "a171a38b-0011-43d8-8413-f53e5a730383",
   "metadata": {},
   "outputs": [],
   "source": [
    "result_path = \"s3a://spark-warehouse/raw_data/save_from_notebook\"\n",
    "daily_topfive_df.coalesce(1).write \\\n",
    "    .format(\"csv\") \\\n",
    "    .option(\"header\", \"true\") \\\n",
    "    .mode(\"overwrite\") \\\n",
    "    .save(result_path)"
   ]
  },
  {
   "cell_type": "code",
   "execution_count": 23,
   "id": "3a3b2f87-24cd-4c9a-a9dc-7a9c6452e52e",
   "metadata": {},
   "outputs": [],
   "source": [
    "spark.stop()"
   ]
  },
  {
   "cell_type": "code",
   "execution_count": null,
   "id": "c3bc8c4f-0fce-430d-8dbe-8babe2130aba",
   "metadata": {},
   "outputs": [],
   "source": []
  }
 ],
 "metadata": {
  "kernelspec": {
   "display_name": "Python 3 (ipykernel)",
   "language": "python",
   "name": "python3"
  },
  "language_info": {
   "codemirror_mode": {
    "name": "ipython",
    "version": 3
   },
   "file_extension": ".py",
   "mimetype": "text/x-python",
   "name": "python",
   "nbconvert_exporter": "python",
   "pygments_lexer": "ipython3",
   "version": "3.12.7"
  }
 },
 "nbformat": 4,
 "nbformat_minor": 5
}
